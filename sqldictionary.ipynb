{
 "cells": [
  {
   "cell_type": "code",
   "execution_count": 26,
   "metadata": {},
   "outputs": [],
   "source": [
    "import mysql.connector"
   ]
  },
  {
   "cell_type": "code",
   "execution_count": 27,
   "metadata": {},
   "outputs": [],
   "source": [
    "con = mysql.connector.connect(\n",
    "user = \"ardit700_student\",\n",
    "password = \"ardit700_student\",\n",
    "host = \"108.167.140.122\",\n",
    "database = \"ardit700_pm1database\"\n",
    "\n",
    ")"
   ]
  },
  {
   "cell_type": "code",
   "execution_count": 28,
   "metadata": {},
   "outputs": [
    {
     "name": "stdout",
     "output_type": "stream",
     "text": [
      "Enter a word: rain\n",
      "Precipitation in the form of liquid water drops with diameters greater than 0.5 millimetres.\n",
      "To fall from the clouds in drops of water.\n"
     ]
    }
   ],
   "source": [
    "cursor = con.cursor()\n",
    "word = input(\"Enter a word: \")\n",
    "query = cursor.execute(\"SELECT * FROM Dictionary WHERE Expression= '%s'\" %word)\n",
    "#\"SELECT * FROM Dictionary WHERE Expression  LIKE 'r%'\"  all rows where the value of the column Expression starts with r:\n",
    "#\"SELECT * FROM Dictionary WHERE length(Expression) < 4\"\n",
    "#\"SELECT * FROM Dictionary WHERE length(Expression) > 1 AND length(Expression) < 4\"\n",
    "results = cursor.fetchall()\n",
    "if results:\n",
    "    for result in results:\n",
    "        print(result[1])\n",
    "else:\n",
    "    print(\"No word found\")"
   ]
  },
  {
   "cell_type": "code",
   "execution_count": null,
   "metadata": {},
   "outputs": [],
   "source": []
  }
 ],
 "metadata": {
  "kernelspec": {
   "display_name": "Python 3",
   "language": "python",
   "name": "python3"
  },
  "language_info": {
   "codemirror_mode": {
    "name": "ipython",
    "version": 3
   },
   "file_extension": ".py",
   "mimetype": "text/x-python",
   "name": "python",
   "nbconvert_exporter": "python",
   "pygments_lexer": "ipython3",
   "version": "3.7.6"
  }
 },
 "nbformat": 4,
 "nbformat_minor": 4
}
