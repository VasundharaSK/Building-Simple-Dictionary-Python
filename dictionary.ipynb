{
 "cells": [
  {
   "cell_type": "code",
   "execution_count": 1,
   "metadata": {},
   "outputs": [],
   "source": [
    "import json\n",
    "import difflib\n",
    "from difflib import SequenceMatcher,get_close_matches"
   ]
  },
  {
   "cell_type": "code",
   "execution_count": 2,
   "metadata": {},
   "outputs": [],
   "source": [
    "data = json.load(open(\"C:/Users/VK/MLPython/udemy/data.json\"))"
   ]
  },
  {
   "cell_type": "code",
   "execution_count": 3,
   "metadata": {},
   "outputs": [],
   "source": [
    "def translate(word):\n",
    "    word = word.lower()\n",
    "    if word in data:\n",
    "         return data[word]\n",
    "    elif word.title() in data: #if user entered \"texas\" this will check for \"Texas\" as well.\n",
    "        return data[word.title()]\n",
    "    elif word.upper() in data: #in case user enters words like USA or NATO\n",
    "        return data[word.upper()]\n",
    "    elif len(get_close_matches(word, data.keys())) > 0:\n",
    "        yn = input(\"Did you mean %s instead? Enter Y if yes, or N if no.\" % get_close_matches(word, data.keys())[0])\n",
    "        if yn == \"Y\":\n",
    "            return data[get_close_matches(word,data.keys())[0]]\n",
    "        elif yn == \"N\":\n",
    "            return \"The word doesnt exist. Please double check it.\"\n",
    "        else:\n",
    "            return \"we didn't understand your input!Please try again\"\n",
    "    else:\n",
    "        return \"The word doesnt exist. Please double check it.\"\n"
   ]
  },
  {
   "cell_type": "code",
   "execution_count": 4,
   "metadata": {},
   "outputs": [
    {
     "name": "stdout",
     "output_type": "stream",
     "text": [
      "Enter word: USA\n",
      "A country and federal republic in North America located north of Mexico and south of Canada, including Alaska, Hawaii and overseas territories.\n"
     ]
    }
   ],
   "source": [
    "word = input(\"Enter word: \")\n",
    "output = translate(word)\n",
    "if type(output) == list:\n",
    "    for item in output:\n",
    "        print(item)\n",
    "else:\n",
    "    print(output)\n"
   ]
  },
  {
   "cell_type": "code",
   "execution_count": null,
   "metadata": {},
   "outputs": [],
   "source": []
  },
  {
   "cell_type": "code",
   "execution_count": null,
   "metadata": {},
   "outputs": [],
   "source": []
  }
 ],
 "metadata": {
  "kernelspec": {
   "display_name": "Python 3",
   "language": "python",
   "name": "python3"
  },
  "language_info": {
   "codemirror_mode": {
    "name": "ipython",
    "version": 3
   },
   "file_extension": ".py",
   "mimetype": "text/x-python",
   "name": "python",
   "nbconvert_exporter": "python",
   "pygments_lexer": "ipython3",
   "version": "3.7.6"
  }
 },
 "nbformat": 4,
 "nbformat_minor": 4
}
